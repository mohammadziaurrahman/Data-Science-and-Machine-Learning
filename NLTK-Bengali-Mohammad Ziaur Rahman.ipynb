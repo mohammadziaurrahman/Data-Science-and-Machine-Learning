{
 "cells": [
  {
   "cell_type": "markdown",
   "id": "cff8c77f-b4a5-4f34-8aac-947acc0c303e",
   "metadata": {},
   "source": [
    "# install required libraries"
   ]
  },
  {
   "cell_type": "code",
   "execution_count": 1,
   "id": "051dc933-4680-45ad-ae6f-d5941991feb0",
   "metadata": {},
   "outputs": [],
   "source": [
    "#!pip install nltk pandas scikit-learn"
   ]
  },
  {
   "cell_type": "markdown",
   "id": "cf72ae70-fd6c-4c0f-8579-109177203269",
   "metadata": {},
   "source": [
    "# Import Libraries & Download NLTK Resources"
   ]
  },
  {
   "cell_type": "code",
   "execution_count": 2,
   "id": "dc87c51e-2947-4602-a1f8-2fae8a6f1fb3",
   "metadata": {},
   "outputs": [
    {
     "name": "stderr",
     "output_type": "stream",
     "text": [
      "[nltk_data] Downloading package punkt to\n",
      "[nltk_data]     C:\\Users\\user\\AppData\\Roaming\\nltk_data...\n",
      "[nltk_data]   Package punkt is already up-to-date!\n",
      "[nltk_data] Downloading package punkt_tab to\n",
      "[nltk_data]     C:\\Users\\user\\AppData\\Roaming\\nltk_data...\n",
      "[nltk_data]   Package punkt_tab is already up-to-date!\n",
      "[nltk_data] Downloading package indian to\n",
      "[nltk_data]     C:\\Users\\user\\AppData\\Roaming\\nltk_data...\n",
      "[nltk_data]   Package indian is already up-to-date!\n",
      "[nltk_data] Downloading package stopwords to\n",
      "[nltk_data]     C:\\Users\\user\\AppData\\Roaming\\nltk_data...\n",
      "[nltk_data]   Package stopwords is already up-to-date!\n",
      "[nltk_data] Downloading package wordnet to\n",
      "[nltk_data]     C:\\Users\\user\\AppData\\Roaming\\nltk_data...\n",
      "[nltk_data]   Package wordnet is already up-to-date!\n",
      "[nltk_data] Downloading package averaged_perceptron_tagger to\n",
      "[nltk_data]     C:\\Users\\user\\AppData\\Roaming\\nltk_data...\n",
      "[nltk_data]   Package averaged_perceptron_tagger is already up-to-\n",
      "[nltk_data]       date!\n"
     ]
    },
    {
     "data": {
      "text/plain": [
       "True"
      ]
     },
     "execution_count": 2,
     "metadata": {},
     "output_type": "execute_result"
    }
   ],
   "source": [
    "import re\n",
    "import pandas as pd\n",
    "import nltk\n",
    "from nltk.tokenize import word_tokenize, sent_tokenize\n",
    "from nltk.corpus import stopwords\n",
    "from nltk.stem import SnowballStemmer\n",
    "from sklearn.feature_extraction.text import CountVectorizer, TfidfVectorizer\n",
    "\n",
    "# Download required NLTK data\n",
    "nltk.download('punkt')\n",
    "nltk.download('punkt_tab')\n",
    "nltk.download('indian')  # Contains Bengali language support\n",
    "nltk.download('stopwords')\n",
    "nltk.download('wordnet')\n",
    "nltk.download('averaged_perceptron_tagger')"
   ]
  },
  {
   "cell_type": "markdown",
   "id": "2bc464b7-5d04-4aad-a9df-7f677be9f9d7",
   "metadata": {},
   "source": [
    "##  Load Bengali Text Data"
   ]
  },
  {
   "cell_type": "code",
   "execution_count": 3,
   "id": "c65cba24-cd82-48f8-8885-7da1a3f86426",
   "metadata": {},
   "outputs": [
    {
     "name": "stdout",
     "output_type": "stream",
     "text": [
      "Original Text:\n",
      " বাংলা ভাষা বাংলাদেশের রাষ্ট্রভাষা। ১৯৫২ সালের ভাষা আন্দোলনের মাধ্যমে বাংলা ভাষার মর্যাদা প্রতিষ্ঠিত হয়। আমরা বাংলায় কথা বলি, গান গাই এবং লেখালেখি করি। বাংলা সাহিত্য সমৃদ্ধ ও প্রাচীন।\n"
     ]
    }
   ],
   "source": [
    "# Sample Bengali text\n",
    "text = \"\"\"\n",
    "বাংলা ভাষা বাংলাদেশের রাষ্ট্রভাষা। ১৯৫২ সালের ভাষা আন্দোলনের মাধ্যমে বাংলা ভাষার মর্যাদা প্রতিষ্ঠিত হয়। \n",
    "আমরা বাংলায় কথা বলি, গান গাই এবং লেখালেখি করি। বাংলা সাহিত্য সমৃদ্ধ ও প্রাচীন।\n",
    "\"\"\"\n",
    "\n",
    "# Preprocess: Remove extra whitespace and newlines\n",
    "text = re.sub(r'\\s+', ' ', text).strip()\n",
    "print(\"Original Text:\\n\", text)"
   ]
  },
  {
   "cell_type": "markdown",
   "id": "5a5ad613-aa14-4e60-9f37-95fb9977fe10",
   "metadata": {},
   "source": [
    "## Word Tokenization (using the Indian language tokenizer)"
   ]
  },
  {
   "cell_type": "code",
   "execution_count": 4,
   "id": "fe5ed3bc-5a0c-4085-a97b-62d7d8b4c568",
   "metadata": {},
   "outputs": [
    {
     "name": "stdout",
     "output_type": "stream",
     "text": [
      "\n",
      "Word Tokens:\n",
      " ['বাংলা', 'ভাষা', 'বাংলাদেশের', 'রাষ্ট্রভাষা।', '১৯৫২', 'সালের', 'ভাষা', 'আন্দোলনের', 'মাধ্যমে', 'বাংলা', 'ভাষার', 'মর্যাদা', 'প্রতিষ্ঠিত', 'হয়।', 'আমরা', 'বাংলায়', 'কথা', 'বলি', ',', 'গান', 'গাই', 'এবং', 'লেখালেখি', 'করি।', 'বাংলা', 'সাহিত্য', 'সমৃদ্ধ', 'ও', 'প্রাচীন।']\n"
     ]
    }
   ],
   "source": [
    "# Word Tokenization (using the Indian language tokenizer)\n",
    "words = word_tokenize(text)\n",
    "print(\"\\nWord Tokens:\\n\", words)"
   ]
  },
  {
   "cell_type": "code",
   "execution_count": 5,
   "id": "0ebc0008-3fc1-4590-a729-8a957a31ff7c",
   "metadata": {},
   "outputs": [
    {
     "name": "stdout",
     "output_type": "stream",
     "text": [
      "\n",
      "Sentence Tokens:\n",
      " ['বাংলা ভাষা বাংলাদেশের রাষ্ট্রভাষা। ১৯৫২ সালের ভাষা আন্দোলনের মাধ্যমে বাংলা ভাষার মর্যাদা প্রতিষ্ঠিত হয়। আমরা বাংলায় কথা বলি, গান গাই এবং লেখালেখি করি। বাংলা সাহিত্য সমৃদ্ধ ও প্রাচীন।']\n"
     ]
    }
   ],
   "source": [
    "# Sentence Tokenization\n",
    "sentences = nltk.sent_tokenize(text)\n",
    "print(\"\\nSentence Tokens:\\n\", sentences)"
   ]
  },
  {
   "cell_type": "markdown",
   "id": "148f7287-aded-4de5-835c-db649af348b2",
   "metadata": {},
   "source": [
    "## Punctuation Removal"
   ]
  },
  {
   "cell_type": "code",
   "execution_count": 6,
   "id": "f5b0bd98-a78a-49ed-a90f-c78c1b73d58e",
   "metadata": {},
   "outputs": [
    {
     "name": "stdout",
     "output_type": "stream",
     "text": [
      "\n",
      "After Punctuation Removal:\n",
      " ['বাংলা', 'ভাষা', 'বাংলাদেশের', 'রাষ্ট্রভাষা।', '১৯৫২', 'সালের', 'ভাষা', 'আন্দোলনের', 'মাধ্যমে', 'বাংলা', 'ভাষার', 'মর্যাদা', 'প্রতিষ্ঠিত', 'হয়।', 'আমরা', 'বাংলায়', 'কথা', 'বলি', 'গান', 'গাই', 'এবং', 'লেখালেখি', 'করি।', 'বাংলা', 'সাহিত্য', 'সমৃদ্ধ', 'ও', 'প্রাচীন।']\n"
     ]
    },
    {
     "name": "stderr",
     "output_type": "stream",
     "text": [
      "<>:2: SyntaxWarning: invalid escape sequence '\\,'\n",
      "<>:2: SyntaxWarning: invalid escape sequence '\\,'\n",
      "C:\\Users\\user\\AppData\\Local\\Temp\\ipykernel_8904\\871959149.py:2: SyntaxWarning: invalid escape sequence '\\,'\n",
      "  bengali_punctuations = '''!()-[]{};:'\"\\,<>./?@#$%^&*_~।'''\n"
     ]
    }
   ],
   "source": [
    "# Define Bengali punctuation marks\n",
    "bengali_punctuations = '''!()-[]{};:'\"\\,<>./?@#$%^&*_~।'''\n",
    "\n",
    "# Remove punctuations\n",
    "filtered_words = [word for word in words if word not in bengali_punctuations]\n",
    "print(\"\\nAfter Punctuation Removal:\\n\", filtered_words)"
   ]
  },
  {
   "cell_type": "markdown",
   "id": "b952bf26-0b81-4965-b42f-609ec8f10ca6",
   "metadata": {},
   "source": [
    "## Stopword Removal"
   ]
  },
  {
   "cell_type": "code",
   "execution_count": 7,
   "id": "5ca9dfcc-2cc2-45a3-9ec3-4768eadca692",
   "metadata": {},
   "outputs": [
    {
     "name": "stdout",
     "output_type": "stream",
     "text": [
      "\n",
      "After Stopword Removal:\n",
      " ['বাংলা', 'ভাষা', 'বাংলাদেশের', 'রাষ্ট্রভাষা।', '১৯৫২', 'সালের', 'ভাষা', 'আন্দোলনের', 'মাধ্যমে', 'বাংলা', 'ভাষার', 'মর্যাদা', 'প্রতিষ্ঠিত', 'হয়।', 'বাংলায়', 'কথা', 'বলি', 'গান', 'গাই', 'লেখালেখি', 'করি।', 'বাংলা', 'সাহিত্য', 'সমৃদ্ধ', 'প্রাচীন।']\n"
     ]
    }
   ],
   "source": [
    "# Load Bengali stopwords (manually defined, as NLTK doesn't have built-in Bengali stopwords)\n",
    "bengali_stopwords = set([\n",
    "    \"এবং\", \"আমি\", \"আমরা\", \"তুমি\", \"তোমরা\", \"সে\", \"তারা\", \"এই\", \"যে\", \"কি\", \"হয়\", \"হতে\", \"হচ্ছে\", \n",
    "    \"এর\", \"করে\", \"নেই\", \"না\", \"এ\", \"কিন্তু\", \"বা\", \"ও\", \"যখন\", \"তখন\", \"সব\", \"একটি\", \"আর\"\n",
    "])\n",
    "\n",
    "# Remove stopwords\n",
    "filtered_words = [word for word in filtered_words if word.lower() not in bengali_stopwords]\n",
    "print(\"\\nAfter Stopword Removal:\\n\", filtered_words)"
   ]
  },
  {
   "cell_type": "markdown",
   "id": "00edfc0d-8888-4c1b-a8e2-75dacd51ac91",
   "metadata": {},
   "source": [
    "## Stemming (Snowball Stemmer for Bengali)"
   ]
  },
  {
   "cell_type": "code",
   "execution_count": 8,
   "id": "33a4979a-ad91-4e2b-90b0-a25bdc7c7e8a",
   "metadata": {},
   "outputs": [
    {
     "name": "stdout",
     "output_type": "stream",
     "text": [
      "applied fourth rules..\n",
      "applied fourth rules..\n",
      "Stemmed words: ['ভাষা', 'বাংলাদেশের', 'লেখালেখি']\n"
     ]
    }
   ],
   "source": [
    "#!pip install bangla-stemmer\n",
    "\n",
    "from bangla_stemmer.stemmer import stemmer\n",
    "\n",
    "# Initialize Bengali stemmer\n",
    "bn_stemmer = stemmer.BanglaStemmer()\n",
    "\n",
    "# Sample Bengali words\n",
    "words = [\"ভাষার\", \"বাংলাদেশের\", \"লেখালেখি\"]\n",
    "\n",
    "# Apply stemming\n",
    "stemmed_words = [bn_stemmer.stem(word) for word in words]\n",
    "print(\"Stemmed words:\", stemmed_words)"
   ]
  },
  {
   "cell_type": "markdown",
   "id": "c4b50f00-2204-48c6-b532-0709eb16cbb3",
   "metadata": {},
   "source": [
    "# Bangla lemmetization"
   ]
  },
  {
   "cell_type": "code",
   "execution_count": 10,
   "id": "4f77e02b-9739-4ff1-be9a-f2acdedc8381",
   "metadata": {},
   "outputs": [
    {
     "name": "stdout",
     "output_type": "stream",
     "text": [
      "Found existing installation: bnlp-toolkit 4.0.0"
     ]
    },
    {
     "name": "stderr",
     "output_type": "stream",
     "text": [
      "WARNING: Skipping bnlp as it is not installed.\n"
     ]
    },
    {
     "name": "stdout",
     "output_type": "stream",
     "text": [
      "\n",
      "Uninstalling bnlp-toolkit-4.0.0:\n",
      "  Successfully uninstalled bnlp-toolkit-4.0.0\n",
      "Collecting bnlp-toolkit\n",
      "  Using cached bnlp_toolkit-4.0.3-py3-none-any.whl.metadata (3.3 kB)\n",
      "Requirement already satisfied: sentencepiece==0.2.0 in c:\\users\\user\\appdata\\local\\programs\\python\\python312\\lib\\site-packages (from bnlp-toolkit) (0.2.0)\n",
      "Collecting gensim==4.3.2 (from bnlp-toolkit)\n",
      "  Using cached gensim-4.3.2.tar.gz (23.3 MB)\n",
      "  Installing build dependencies: started\n",
      "  Installing build dependencies: finished with status 'done'\n",
      "  Getting requirements to build wheel: started\n",
      "  Getting requirements to build wheel: finished with status 'done'\n",
      "  Preparing metadata (pyproject.toml): started\n",
      "  Preparing metadata (pyproject.toml): finished with status 'done'\n",
      "Requirement already satisfied: nltk in c:\\users\\user\\appdata\\local\\programs\\python\\python312\\lib\\site-packages (from bnlp-toolkit) (3.9.1)\n",
      "Requirement already satisfied: numpy in c:\\users\\user\\appdata\\local\\programs\\python\\python312\\lib\\site-packages (from bnlp-toolkit) (1.26.4)\n",
      "INFO: pip is looking at multiple versions of bnlp-toolkit to determine which version is compatible with other requirements. This could take a while.\n",
      "Collecting bnlp-toolkit\n",
      "  Using cached bnlp_toolkit-4.0.2-py3-none-any.whl.metadata (3.3 kB)\n",
      "  Using cached bnlp_toolkit-4.0.1-py3-none-any.whl.metadata (3.3 kB)\n",
      "Collecting nltk==3.8.1 (from bnlp-toolkit)\n",
      "  Using cached nltk-3.8.1-py3-none-any.whl.metadata (2.8 kB)\n",
      "Collecting bnlp-toolkit\n",
      "  Using cached bnlp_toolkit-4.0.0-py3-none-any.whl.metadata (3.3 kB)\n",
      "Requirement already satisfied: gensim in c:\\users\\user\\appdata\\local\\programs\\python\\python312\\lib\\site-packages (from bnlp-toolkit) (4.3.3)\n",
      "Requirement already satisfied: scipy in c:\\users\\user\\appdata\\local\\programs\\python\\python312\\lib\\site-packages (from bnlp-toolkit) (1.13.1)\n",
      "Requirement already satisfied: sklearn-crfsuite in c:\\users\\user\\appdata\\local\\programs\\python\\python312\\lib\\site-packages (from bnlp-toolkit) (0.5.0)\n",
      "Requirement already satisfied: tqdm in c:\\users\\user\\appdata\\local\\programs\\python\\python312\\lib\\site-packages (from bnlp-toolkit) (4.67.1)\n",
      "Requirement already satisfied: ftfy in c:\\users\\user\\appdata\\local\\programs\\python\\python312\\lib\\site-packages (from bnlp-toolkit) (6.3.1)\n",
      "Requirement already satisfied: emoji==1.7.0 in c:\\users\\user\\appdata\\local\\programs\\python\\python312\\lib\\site-packages (from bnlp-toolkit) (1.7.0)\n",
      "Requirement already satisfied: requests in c:\\users\\user\\appdata\\local\\programs\\python\\python312\\lib\\site-packages (from bnlp-toolkit) (2.32.3)\n",
      "Requirement already satisfied: wcwidth in c:\\users\\user\\appdata\\local\\programs\\python\\python312\\lib\\site-packages (from ftfy->bnlp-toolkit) (0.2.13)\n",
      "Requirement already satisfied: smart-open>=1.8.1 in c:\\users\\user\\appdata\\local\\programs\\python\\python312\\lib\\site-packages (from gensim->bnlp-toolkit) (7.1.0)\n",
      "Requirement already satisfied: click in c:\\users\\user\\appdata\\local\\programs\\python\\python312\\lib\\site-packages (from nltk->bnlp-toolkit) (8.1.8)\n",
      "Requirement already satisfied: joblib in c:\\users\\user\\appdata\\local\\programs\\python\\python312\\lib\\site-packages (from nltk->bnlp-toolkit) (1.4.2)\n",
      "Requirement already satisfied: regex>=2021.8.3 in c:\\users\\user\\appdata\\local\\programs\\python\\python312\\lib\\site-packages (from nltk->bnlp-toolkit) (2024.11.6)\n",
      "Requirement already satisfied: charset-normalizer<4,>=2 in c:\\users\\user\\appdata\\local\\programs\\python\\python312\\lib\\site-packages (from requests->bnlp-toolkit) (3.4.1)\n",
      "Requirement already satisfied: idna<4,>=2.5 in c:\\users\\user\\appdata\\local\\programs\\python\\python312\\lib\\site-packages (from requests->bnlp-toolkit) (3.10)\n",
      "Requirement already satisfied: urllib3<3,>=1.21.1 in c:\\users\\user\\appdata\\local\\programs\\python\\python312\\lib\\site-packages (from requests->bnlp-toolkit) (2.4.0)\n",
      "Requirement already satisfied: certifi>=2017.4.17 in c:\\users\\user\\appdata\\local\\programs\\python\\python312\\lib\\site-packages (from requests->bnlp-toolkit) (2025.1.31)\n",
      "Requirement already satisfied: python-crfsuite>=0.9.7 in c:\\users\\user\\appdata\\local\\programs\\python\\python312\\lib\\site-packages (from sklearn-crfsuite->bnlp-toolkit) (0.9.11)\n",
      "Requirement already satisfied: scikit-learn>=0.24.0 in c:\\users\\user\\appdata\\local\\programs\\python\\python312\\lib\\site-packages (from sklearn-crfsuite->bnlp-toolkit) (1.6.1)\n",
      "Requirement already satisfied: tabulate>=0.4.2 in c:\\users\\user\\appdata\\local\\programs\\python\\python312\\lib\\site-packages (from sklearn-crfsuite->bnlp-toolkit) (0.9.0)\n",
      "Requirement already satisfied: colorama in c:\\users\\user\\appdata\\local\\programs\\python\\python312\\lib\\site-packages (from tqdm->bnlp-toolkit) (0.4.6)\n",
      "Requirement already satisfied: threadpoolctl>=3.1.0 in c:\\users\\user\\appdata\\local\\programs\\python\\python312\\lib\\site-packages (from scikit-learn>=0.24.0->sklearn-crfsuite->bnlp-toolkit) (3.6.0)\n",
      "Requirement already satisfied: wrapt in c:\\users\\user\\appdata\\local\\programs\\python\\python312\\lib\\site-packages (from smart-open>=1.8.1->gensim->bnlp-toolkit) (1.17.2)\n",
      "Using cached bnlp_toolkit-4.0.0-py3-none-any.whl (22 kB)\n",
      "Installing collected packages: bnlp-toolkit\n",
      "Successfully installed bnlp-toolkit-4.0.0\n"
     ]
    },
    {
     "name": "stderr",
     "output_type": "stream",
     "text": [
      "\n",
      "[notice] A new release of pip is available: 24.3.1 -> 25.0.1\n",
      "[notice] To update, run: python.exe -m pip install --upgrade pip\n"
     ]
    },
    {
     "ename": "ImportError",
     "evalue": "cannot import name 'BasicLemmatizer' from 'bnlp' (C:\\Users\\user\\AppData\\Local\\Programs\\Python\\Python312\\Lib\\site-packages\\bnlp\\__init__.py)",
     "output_type": "error",
     "traceback": [
      "\u001b[1;31m---------------------------------------------------------------------------\u001b[0m",
      "\u001b[1;31mImportError\u001b[0m                               Traceback (most recent call last)",
      "Cell \u001b[1;32mIn[10], line 6\u001b[0m\n\u001b[0;32m      3\u001b[0m get_ipython()\u001b[38;5;241m.\u001b[39msystem(\u001b[38;5;124m'\u001b[39m\u001b[38;5;124mpip install bnlp-toolkit\u001b[39m\u001b[38;5;124m'\u001b[39m)\n\u001b[0;32m      5\u001b[0m \u001b[38;5;66;03m# Correct import for current versions\u001b[39;00m\n\u001b[1;32m----> 6\u001b[0m \u001b[38;5;28;01mfrom\u001b[39;00m \u001b[38;5;21;01mbnlp\u001b[39;00m \u001b[38;5;28;01mimport\u001b[39;00m BasicLemmatizer\n\u001b[0;32m      8\u001b[0m \u001b[38;5;66;03m# Initialize lemmatizer (will download models automatically)\u001b[39;00m\n\u001b[0;32m      9\u001b[0m lemmatizer \u001b[38;5;241m=\u001b[39m BasicLemmatizer()\n",
      "\u001b[1;31mImportError\u001b[0m: cannot import name 'BasicLemmatizer' from 'bnlp' (C:\\Users\\user\\AppData\\Local\\Programs\\Python\\Python312\\Lib\\site-packages\\bnlp\\__init__.py)"
     ]
    }
   ],
   "source": [
    "# First uninstall any existing versions and install the correct package\n",
    "!pip uninstall -y bnlp bnlp-toolkit\n",
    "!pip install bnlp-toolkit\n",
    "\n",
    "# Correct import for current versions\n",
    "from bnlp import BasicLemmatizer\n",
    "\n",
    "# Initialize lemmatizer (will download models automatically)\n",
    "lemmatizer = BasicLemmatizer()\n",
    "\n",
    "# Example usage\n",
    "words = [\"করছি\", \"করেছিলাম\", \"করব\", \"করেছে\", \"করেছেন\"]\n",
    "for word in words:\n",
    "    print(f\"{word} → {lemmatizer.lemma(word)}\")"
   ]
  },
  {
   "cell_type": "markdown",
   "id": "82da1fdd-cedc-4554-b8b0-2d217bd9c3b8",
   "metadata": {},
   "source": [
    "## TF-IDF and Count Vectorize"
   ]
  },
  {
   "cell_type": "code",
   "execution_count": 45,
   "id": "82484e0a-39b3-44c5-95f8-8c32a3910d18",
   "metadata": {},
   "outputs": [
    {
     "name": "stdout",
     "output_type": "stream",
     "text": [
      "\n",
      "Count Vectorizer:\n",
      "    আছ  একট  এখ  দর  নদ\n",
      "0   0    1   0   1   0\n",
      "1   1    0   1   0   1\n",
      "2   0    0   0   0   0\n",
      "\n",
      "TF-IDF Vectorizer:\n",
      "         আছ       একট       এখ        দর       নদ\n",
      "0  0.00000  0.707107  0.00000  0.707107  0.00000\n",
      "1  0.57735  0.000000  0.57735  0.000000  0.57735\n",
      "2  0.00000  0.000000  0.00000  0.000000  0.00000\n"
     ]
    }
   ],
   "source": [
    "# Vectorization\n",
    "documents = [\n",
    "    \"বাংলাদেশ একটি সুন্দর দেশ\",\n",
    "    \"এখানে নদী ও পাহাড় আছে\",\n",
    "    \"বাংলা ভাষা মিষ্টি ভাষা\"\n",
    "]\n",
    "\n",
    "# CountVectorizer\n",
    "count_vectorizer = CountVectorizer()\n",
    "X_count = count_vectorizer.fit_transform(documents)\n",
    "print(\"\\nCount Vectorizer:\\n\", pd.DataFrame(X_count.toarray(), columns=count_vectorizer.get_feature_names_out()))\n",
    "\n",
    "# TF-IDF Vectorizer\n",
    "tfidf_vectorizer = TfidfVectorizer()\n",
    "X_tfidf = tfidf_vectorizer.fit_transform(documents)\n",
    "print(\"\\nTF-IDF Vectorizer:\\n\", pd.DataFrame(X_tfidf.toarray(), columns=tfidf_vectorizer.get_feature_names_out()))"
   ]
  },
  {
   "cell_type": "code",
   "execution_count": null,
   "id": "d9313dfc-e46d-4041-888d-fdd6a11badbb",
   "metadata": {},
   "outputs": [],
   "source": []
  }
 ],
 "metadata": {
  "kernelspec": {
   "display_name": "Python 3 (ipykernel)",
   "language": "python",
   "name": "python3"
  },
  "language_info": {
   "codemirror_mode": {
    "name": "ipython",
    "version": 3
   },
   "file_extension": ".py",
   "mimetype": "text/x-python",
   "name": "python",
   "nbconvert_exporter": "python",
   "pygments_lexer": "ipython3",
   "version": "3.12.4"
  }
 },
 "nbformat": 4,
 "nbformat_minor": 5
}
